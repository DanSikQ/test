{
 "cells": [
  {
   "cell_type": "code",
   "execution_count": null,
   "id": "9b32d62b",
   "metadata": {},
   "outputs": [],
   "source": []
  },
  {
   "cell_type": "code",
   "execution_count": 2,
   "id": "1de35b52",
   "metadata": {},
   "outputs": [
    {
     "name": "stdout",
     "output_type": "stream",
     "text": [
      "[<div class=\"magritte-tag__label___YHV-o_4-0-3\"><span data-qa=\"vacancy-serp__vacancy-work-experience-noExperience\">Без опыта</span></div>, <div class=\"magritte-tag__label___YHV-o_4-0-3\"><span data-qa=\"vacancy-label-work-schedule-remote\">Можно удалённо</span></div>, <div class=\"magritte-tag__label___YHV-o_4-0-3\"><span data-qa=\"vacancy-serp__vacancy-work-experience-noExperience\">Без опыта</span></div>, <div class=\"magritte-tag__label___YHV-o_4-0-3\"><span data-qa=\"vacancy-label-work-schedule-remote\">Можно удалённо</span></div>, <div class=\"magritte-tag__label___YHV-o_4-0-3\">Отклик без резюме</div>]\n",
      "[<div class=\"magritte-tag__label___YHV-o_4-0-3\"><span data-qa=\"vacancy-serp__vacancy-work-experience-noExperience\">Без опыта</span></div>, <div class=\"magritte-tag__label___YHV-o_4-0-3\"><span data-qa=\"vacancy-serp__vacancy-work-experience-noExperience\">Без опыта</span></div>]\n",
      "[<div class=\"magritte-tag__label___YHV-o_4-0-3\"><span data-qa=\"vacancy-serp__vacancy-work-experience-noExperience\">Без опыта</span></div>, <div class=\"magritte-tag__label___YHV-o_4-0-3\"><span data-qa=\"vacancy-label-work-schedule-remote\">Можно удалённо</span></div>, <div class=\"magritte-tag__label___YHV-o_4-0-3\"><span data-qa=\"vacancy-serp__vacancy-work-experience-noExperience\">Без опыта</span></div>, <div class=\"magritte-tag__label___YHV-o_4-0-3\"><span data-qa=\"vacancy-label-work-schedule-remote\">Можно удалённо</span></div>]\n",
      "[<div class=\"magritte-tag__label___YHV-o_4-0-3\"><span data-qa=\"vacancy-serp__vacancy-work-experience-between1And3\">Опыт 1-3 года</span></div>, <div class=\"magritte-tag__label___YHV-o_4-0-3\"><span data-qa=\"vacancy-serp__vacancy-work-experience-between1And3\">Опыт 1-3 года</span></div>]\n",
      "[<div class=\"magritte-tag__label___YHV-o_4-0-3\"><span data-qa=\"vacancy-serp__vacancy-work-experience-noExperience\">Без опыта</span></div>, <div class=\"magritte-tag__label___YHV-o_4-0-3\"><span data-qa=\"vacancy-serp__vacancy-work-experience-noExperience\">Без опыта</span></div>, <div class=\"magritte-tag__label___YHV-o_4-0-3\">Отклик без резюме</div>]\n",
      "[<div class=\"magritte-tag__label___YHV-o_4-0-3\"><span data-qa=\"vacancy-serp__vacancy-work-experience-noExperience\">Без опыта</span></div>, <div class=\"magritte-tag__label___YHV-o_4-0-3\"><span data-qa=\"vacancy-serp__vacancy-work-experience-noExperience\">Без опыта</span></div>, <div class=\"magritte-tag__label___YHV-o_4-0-3\">Отклик без резюме</div>]\n"
     ]
    }
   ],
   "source": [
    "from bs4 import BeautifulSoup\n",
    "\n",
    "with open('тест.html', 'r', encoding='utf-8') as f:\n",
    "    soup = BeautifulSoup(f, 'html.parser')\n",
    "b = []\n",
    "for i, vacancy in enumerate(soup.find_all('div', {'data-qa': 'vacancy-serp__vacancy'})):\n",
    "    img_html = vacancy.find('img')\n",
    "    opit = vacancy.find_all(class_ = 'magritte-tag__label___YHV-o_4-0-3')\n",
    "    print(opit)\n",
    "    if img_html:\n",
    "        b.append(img_html['src'])"
   ]
  },
  {
   "cell_type": "code",
   "execution_count": 39,
   "id": "64f744f4",
   "metadata": {},
   "outputs": [],
   "source": [
    "import re\n",
    "numbers = re.findall(r'\\d+.jpeg', b[0])"
   ]
  },
  {
   "cell_type": "code",
   "execution_count": 40,
   "id": "acc0713f",
   "metadata": {},
   "outputs": [],
   "source": [
    "full_url = 'https://img.hhcdn.ru/employer-logo/' + numbers[0]"
   ]
  },
  {
   "cell_type": "code",
   "execution_count": 41,
   "id": "ed301654",
   "metadata": {},
   "outputs": [
    {
     "data": {
      "text/plain": [
       "'https://img.hhcdn.ru/employer-logo/6574070.jpeg'"
      ]
     },
     "execution_count": 41,
     "metadata": {},
     "output_type": "execute_result"
    }
   ],
   "source": [
    "full_url"
   ]
  },
  {
   "cell_type": "code",
   "execution_count": null,
   "id": "e2a73c48",
   "metadata": {},
   "outputs": [],
   "source": []
  }
 ],
 "metadata": {
  "kernelspec": {
   "display_name": ".venv (3.12.5)",
   "language": "python",
   "name": "python3"
  },
  "language_info": {
   "codemirror_mode": {
    "name": "ipython",
    "version": 3
   },
   "file_extension": ".py",
   "mimetype": "text/x-python",
   "name": "python",
   "nbconvert_exporter": "python",
   "pygments_lexer": "ipython3",
   "version": "3.12.5"
  }
 },
 "nbformat": 4,
 "nbformat_minor": 5
}
